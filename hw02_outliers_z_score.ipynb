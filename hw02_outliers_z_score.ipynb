{
 "cells": [
  {
   "cell_type": "markdown",
   "metadata": {
    "id": "BRE25qQhWshc"
   },
   "source": [
    "About the homework: In some tasks, in addition to writing code, answers to questions and conclusions are required (there are special Markdown cells marked with **Answer**).\n",
    "\n",
    "The ability to analyze the results of experiments is an important skill. Therefore, answers carry more weight than the code: the code accounts for 30% of the task grade, while answers to questions account for 70%."
   ]
  },
  {
   "cell_type": "code",
   "execution_count": 1,
   "metadata": {
    "id": "zKPPJJrBSod6"
   },
   "outputs": [],
   "source": [
    "import matplotlib.pyplot as plt\n",
    "import numpy as np\n",
    "import pandas as pd\n",
    "import seaborn as sns"
   ]
  },
  {
   "cell_type": "markdown",
   "metadata": {
    "id": "1PDwH6_BSkxp"
   },
   "source": [
    "Download the [UCI Heart Disease Data](https://www.kaggle.com/datasets/redwankarimsony/heart-disease-data/data)"
   ]
  },
  {
   "cell_type": "code",
   "execution_count": 3,
   "metadata": {
    "id": "wUvCxSK6RkKR"
   },
   "outputs": [
    {
     "data": {
      "text/html": [
       "<div>\n",
       "<style scoped>\n",
       "    .dataframe tbody tr th:only-of-type {\n",
       "        vertical-align: middle;\n",
       "    }\n",
       "\n",
       "    .dataframe tbody tr th {\n",
       "        vertical-align: top;\n",
       "    }\n",
       "\n",
       "    .dataframe thead th {\n",
       "        text-align: right;\n",
       "    }\n",
       "</style>\n",
       "<table border=\"1\" class=\"dataframe\">\n",
       "  <thead>\n",
       "    <tr style=\"text-align: right;\">\n",
       "      <th></th>\n",
       "      <th>id</th>\n",
       "      <th>age</th>\n",
       "      <th>sex</th>\n",
       "      <th>dataset</th>\n",
       "      <th>cp</th>\n",
       "      <th>trestbps</th>\n",
       "      <th>chol</th>\n",
       "      <th>fbs</th>\n",
       "      <th>restecg</th>\n",
       "      <th>thalch</th>\n",
       "      <th>exang</th>\n",
       "      <th>oldpeak</th>\n",
       "      <th>slope</th>\n",
       "      <th>ca</th>\n",
       "      <th>thal</th>\n",
       "      <th>num</th>\n",
       "    </tr>\n",
       "  </thead>\n",
       "  <tbody>\n",
       "    <tr>\n",
       "      <th>442</th>\n",
       "      <td>443</td>\n",
       "      <td>53</td>\n",
       "      <td>Male</td>\n",
       "      <td>Hungary</td>\n",
       "      <td>asymptomatic</td>\n",
       "      <td>140.0</td>\n",
       "      <td>243.0</td>\n",
       "      <td>False</td>\n",
       "      <td>normal</td>\n",
       "      <td>155.0</td>\n",
       "      <td>False</td>\n",
       "      <td>0.0</td>\n",
       "      <td>NaN</td>\n",
       "      <td>NaN</td>\n",
       "      <td>NaN</td>\n",
       "      <td>0</td>\n",
       "    </tr>\n",
       "    <tr>\n",
       "      <th>299</th>\n",
       "      <td>300</td>\n",
       "      <td>68</td>\n",
       "      <td>Male</td>\n",
       "      <td>Cleveland</td>\n",
       "      <td>asymptomatic</td>\n",
       "      <td>144.0</td>\n",
       "      <td>193.0</td>\n",
       "      <td>True</td>\n",
       "      <td>normal</td>\n",
       "      <td>141.0</td>\n",
       "      <td>False</td>\n",
       "      <td>3.4</td>\n",
       "      <td>flat</td>\n",
       "      <td>2.0</td>\n",
       "      <td>reversable defect</td>\n",
       "      <td>2</td>\n",
       "    </tr>\n",
       "    <tr>\n",
       "      <th>833</th>\n",
       "      <td>834</td>\n",
       "      <td>72</td>\n",
       "      <td>Male</td>\n",
       "      <td>VA Long Beach</td>\n",
       "      <td>asymptomatic</td>\n",
       "      <td>NaN</td>\n",
       "      <td>211.0</td>\n",
       "      <td>False</td>\n",
       "      <td>normal</td>\n",
       "      <td>NaN</td>\n",
       "      <td>NaN</td>\n",
       "      <td>NaN</td>\n",
       "      <td>NaN</td>\n",
       "      <td>NaN</td>\n",
       "      <td>NaN</td>\n",
       "      <td>1</td>\n",
       "    </tr>\n",
       "    <tr>\n",
       "      <th>46</th>\n",
       "      <td>47</td>\n",
       "      <td>51</td>\n",
       "      <td>Male</td>\n",
       "      <td>Cleveland</td>\n",
       "      <td>non-anginal</td>\n",
       "      <td>110.0</td>\n",
       "      <td>175.0</td>\n",
       "      <td>False</td>\n",
       "      <td>normal</td>\n",
       "      <td>123.0</td>\n",
       "      <td>False</td>\n",
       "      <td>0.6</td>\n",
       "      <td>upsloping</td>\n",
       "      <td>0.0</td>\n",
       "      <td>normal</td>\n",
       "      <td>0</td>\n",
       "    </tr>\n",
       "  </tbody>\n",
       "</table>\n",
       "</div>"
      ],
      "text/plain": [
       "      id  age   sex        dataset            cp  trestbps   chol    fbs  \\\n",
       "442  443   53  Male        Hungary  asymptomatic     140.0  243.0  False   \n",
       "299  300   68  Male      Cleveland  asymptomatic     144.0  193.0   True   \n",
       "833  834   72  Male  VA Long Beach  asymptomatic       NaN  211.0  False   \n",
       "46    47   51  Male      Cleveland   non-anginal     110.0  175.0  False   \n",
       "\n",
       "    restecg  thalch  exang  oldpeak      slope   ca               thal  num  \n",
       "442  normal   155.0  False      0.0        NaN  NaN                NaN    0  \n",
       "299  normal   141.0  False      3.4       flat  2.0  reversable defect    2  \n",
       "833  normal     NaN    NaN      NaN        NaN  NaN                NaN    1  \n",
       "46   normal   123.0  False      0.6  upsloping  0.0             normal    0  "
      ]
     },
     "execution_count": 3,
     "metadata": {},
     "output_type": "execute_result"
    }
   ],
   "source": [
    "df = pd.read_csv('heart_disease_uci.csv')\n",
    "df.sample(4)"
   ]
  },
  {
   "cell_type": "code",
   "execution_count": 5,
   "metadata": {},
   "outputs": [
    {
     "name": "stdout",
     "output_type": "stream",
     "text": [
      "id: int64\n",
      "age: int64\n",
      "sex: object\n",
      "dataset: object\n",
      "cp: object\n",
      "trestbps: float64\n",
      "chol: float64\n",
      "fbs: object\n",
      "restecg: object\n",
      "thalch: float64\n",
      "exang: object\n",
      "oldpeak: float64\n",
      "slope: object\n",
      "ca: float64\n",
      "thal: object\n",
      "num: int64\n"
     ]
    }
   ],
   "source": [
    "for column in df.columns:\n",
    "    print(f\"{column}: {df[column].dtype}\")"
   ]
  },
  {
   "cell_type": "markdown",
   "metadata": {
    "id": "A65LaFazTF06"
   },
   "source": [
    "# Task 1 (2 points)"
   ]
  },
  {
   "cell_type": "markdown",
   "metadata": {
    "id": "2V7JvWWBUaA_"
   },
   "source": [
    "Compute the mean, quartiles(Q1, Q2, Q3) and std for every numerical feature (also include column `'id'`)."
   ]
  },
  {
   "cell_type": "code",
   "execution_count": 7,
   "metadata": {},
   "outputs": [
    {
     "name": "stdout",
     "output_type": "stream",
     "text": [
      "id: 0\n",
      "age: 0\n",
      "sex: 0\n",
      "dataset: 0\n",
      "cp: 0\n",
      "trestbps: 59\n",
      "chol: 30\n",
      "fbs: 90\n",
      "restecg: 2\n",
      "thalch: 55\n",
      "exang: 55\n",
      "oldpeak: 62\n",
      "slope: 309\n",
      "ca: 611\n",
      "thal: 486\n",
      "num: 0\n"
     ]
    }
   ],
   "source": [
    "#Before doing it checking NA\n",
    "for column in df.columns:\n",
    "    print(f'{column}: {sum(df[column].isna())}')"
   ]
  },
  {
   "cell_type": "code",
   "execution_count": 9,
   "metadata": {
    "id": "rIKd5saDUNKA"
   },
   "outputs": [
    {
     "data": {
      "text/plain": [
       "[{'Feature': 'id',\n",
       "  'Mean': 460.5,\n",
       "  'Std': 265.5809669385214,\n",
       "  'Q1': 230.75,\n",
       "  'Q2': 460.5,\n",
       "  'Q3': 690.25},\n",
       " {'Feature': 'trestbps',\n",
       "  'Mean': 132.13240418118468,\n",
       "  'Std': 19.054994252175938,\n",
       "  'Q1': 120.0,\n",
       "  'Q2': 130.0,\n",
       "  'Q3': 140.0},\n",
       " {'Feature': 'chol',\n",
       "  'Mean': 199.13033707865168,\n",
       "  'Std': 110.71855645095357,\n",
       "  'Q1': 175.0,\n",
       "  'Q2': 223.0,\n",
       "  'Q3': 268.0},\n",
       " {'Feature': 'thalch',\n",
       "  'Mean': 137.5456647398844,\n",
       "  'Std': 25.911285872005287,\n",
       "  'Q1': 120.0,\n",
       "  'Q2': 140.0,\n",
       "  'Q3': 157.0},\n",
       " {'Feature': 'oldpeak',\n",
       "  'Mean': 0.8787878787878788,\n",
       "  'Std': 1.090590150217076,\n",
       "  'Q1': 0.0,\n",
       "  'Q2': 0.5,\n",
       "  'Q3': 1.5}]"
      ]
     },
     "execution_count": 9,
     "metadata": {},
     "output_type": "execute_result"
    }
   ],
   "source": [
    "# It is therefore important to delete NA, otherwise, we cannot calculate Quantilies \n",
    "num_feature = ['id','trestbps', 'chol', 'thalch', 'oldpeak']\n",
    "\n",
    "def MQ(data):\n",
    "    data = data.dropna()\n",
    "    mu = np.mean(data)\n",
    "    std = np.std(data)\n",
    "    Q1 = np.quantile(data, 0.25)\n",
    "    Q2 = np.quantile(data, 0.5)\n",
    "    Q3 = np.quantile(data, 0.75)\n",
    "    return mu, std, Q1, Q2, Q3\n",
    "\n",
    "results = []\n",
    "for i in num_feature:\n",
    "    mu, std, Q1, Q2, Q3 = MQ(df[i])\n",
    "    results.append({'Feature': i, 'Mean': mu, 'Std': std, 'Q1': Q1, 'Q2': Q2, 'Q3': Q3})\n",
    "\n",
    "results"
   ]
  },
  {
   "cell_type": "markdown",
   "metadata": {
    "id": "Td3yntByWHmv"
   },
   "source": [
    "Let's look into `'id'` feature. Does it seem to differ from other variables? If yes, how?"
   ]
  },
  {
   "cell_type": "markdown",
   "metadata": {
    "id": "gHp2IAkjWwsZ"
   },
   "source": [
    "**Answer** ID is patiens identification number, so what can we find here except to their overall number?"
   ]
  },
  {
   "cell_type": "markdown",
   "metadata": {
    "id": "cYj4XCy-clSU"
   },
   "source": [
    "Draw the distribution of the `'id'` variable. Describe it and explain, why does it look like this. What useful information about heart disease can be extracted from it?"
   ]
  },
  {
   "cell_type": "code",
   "execution_count": 13,
   "metadata": {
    "id": "2DpoI5S4cwNj"
   },
   "outputs": [
    {
     "data": {
      "text/plain": [
       "(array([46., 46., 46., 46., 46., 46., 46., 46., 46., 46., 46., 46., 46.,\n",
       "        46., 46., 46., 46., 46., 46., 46.]),\n",
       " array([  1.  ,  46.95,  92.9 , 138.85, 184.8 , 230.75, 276.7 , 322.65,\n",
       "        368.6 , 414.55, 460.5 , 506.45, 552.4 , 598.35, 644.3 , 690.25,\n",
       "        736.2 , 782.15, 828.1 , 874.05, 920.  ]),\n",
       " <BarContainer object of 20 artists>)"
      ]
     },
     "execution_count": 13,
     "metadata": {},
     "output_type": "execute_result"
    },
    {
     "data": {
      "image/png": "[encoded data removed]",
      "text/plain": [
       "<Figure size 640x480 with 1 Axes>"
      ]
     },
     "metadata": {},
     "output_type": "display_data"
    }
   ],
   "source": [
    "plt.hist(df['id'], bins = 20)"
   ]
  },
  {
   "cell_type": "markdown",
   "metadata": {
    "id": "RNJuFy9XcibU"
   },
   "source": [
    "**Answer** \\#YOUR ANSWER\n",
    "Zero information except for their overall number (920). The graph looks so because x-axis (patient's number) and y-axis ( i do not know what, honestly)"
   ]
  },
  {
   "cell_type": "markdown",
   "metadata": {
    "id": "JhwgOXpIggxM"
   },
   "source": [
    "# Task 2 (2 points)"
   ]
  },
  {
   "cell_type": "markdown",
   "metadata": {
    "id": "hRBWdzYugzAZ"
   },
   "source": [
    "Let's search for outliers in numerical variables (do not include `'id'`).\n",
    "\n",
    "First of all, draw boxplots for every one of them on one figure.\n",
    "\n",
    "Hint: use `plt.subplots`"
   ]
  },
  {
   "cell_type": "markdown",
   "metadata": {
    "id": "IgCdQznfh9v4"
   },
   "source": [
    "Describe the plots:\n",
    "\n",
    "\n",
    "\n",
    "*   Which features do not have any outliers?\n",
    "*   Which features seem to have the maximum number of outliers?\n",
    "*   For which features it may be hard to count the number of outliers? Why?\n",
    "\n",
    "\n",
    "\n"
   ]
  },
  {
   "cell_type": "code",
   "execution_count": 15,
   "metadata": {
    "id": "bU28SZllhCMX"
   },
   "outputs": [
    {
     "data": {
      "image/png": "[encoded data removed]",
      "text/plain": [
       "<Figure size 800x1600 with 4 Axes>"
      ]
     },
     "metadata": {},
     "output_type": "display_data"
    }
   ],
   "source": [
    "num_feature = num_feature[1:len(num_feature)]\n",
    "\n",
    "fig, axes = plt.subplots(len(num_feature), 1, figsize=(8, 4*len(num_feature)))\n",
    "\n",
    "for i, feature in enumerate(num_feature):\n",
    "    ax = axes[i]\n",
    "    ax.hist(df[feature].dropna(), bins=20, edgecolor='black')\n",
    "    ax.set_title(f'Histogram of {feature}')\n",
    "    ax.set_xlabel(feature)\n",
    "    ax.set_ylabel('Frequency')\n",
    "\n",
    "plt.tight_layout()\n",
    "plt.show()"
   ]
  },
  {
   "cell_type": "markdown",
   "metadata": {
    "id": "eleRkL_zifuB"
   },
   "source": [
    "**Answer** \\#YOUR ANSWER"
   ]
  },
  {
   "cell_type": "markdown",
   "metadata": {
    "id": "1CfgFBtwjFuk"
   },
   "source": [
    "Use the $1.5IQR$ approach and count the number of outliers for each column."
   ]
  },
  {
   "cell_type": "code",
   "execution_count": 49,
   "metadata": {
    "id": "1ek0PHhnjFYu"
   },
   "outputs": [
    {
     "data": {
      "text/plain": [
       "{'id': 0, 'trestbps': 28, 'chol': 183, 'thalch': 2, 'oldpeak': 16}"
      ]
     },
     "execution_count": 49,
     "metadata": {},
     "output_type": "execute_result"
    }
   ],
   "source": [
    "outlier_counts = {}\n",
    "def IQR1_5(df, columns):\n",
    "    df_check = df.copy()\n",
    "    keeptrack = pd.Series(True, index = df.index)\n",
    "    \n",
    "    for column in columns:\n",
    "         Q1 = df_check[column].quantile(0.25)\n",
    "         Q3 = df_check[column].quantile(0.75)\n",
    "         IQR = Q3-Q1\n",
    "         LB = Q1 - 1.5 *IQR\n",
    "         UB = Q3 + 1.5 *IQR\n",
    "         outliers = (df[column] < LB) | (df[column] > UB)\n",
    "         outlier_counts[column] = outliers.sum()\n",
    "         keeptrack &= ~outliers\n",
    "    \n",
    "    return df_check[keeptrack]\n",
    "\n",
    "df_delIQR_outliers = IQR1_5(df,num_feature)\n",
    "\n",
    "outlier_counts"
   ]
  },
  {
   "cell_type": "markdown",
   "metadata": {
    "id": "TTWech8rj17V"
   },
   "source": [
    "For the feature with most outliers, draw the histogram and depict the bounds. Do the bounds seem too tight or too wide? Is deleting all outliers for this feature a good idea?"
   ]
  },
  {
   "cell_type": "code",
   "execution_count": 19,
   "metadata": {},
   "outputs": [
    {
     "data": {
      "text/plain": [
       "('chol', 185)"
      ]
     },
     "execution_count": 19,
     "metadata": {},
     "output_type": "execute_result"
    }
   ],
   "source": [
    "most_outliers = max(outlier_counts, key=outlier_counts.get)\n",
    "Outlier_output = most_outliers, outlier_counts[most_outliers]\n",
    "Outlier_output"
   ]
  },
  {
   "cell_type": "code",
   "execution_count": 21,
   "metadata": {},
   "outputs": [
    {
     "data": {
      "image/png": "[encoded data removed]",
      "text/plain": [
       "<Figure size 800x500 with 1 Axes>"
      ]
     },
     "metadata": {},
     "output_type": "display_data"
    }
   ],
   "source": [
    "Q1 = df_delIQR_outliers[Outlier_output[0]].quantile(0.25)\n",
    "Q2 = df_delIQR_outliers[Outlier_output[0]].quantile(0.5)\n",
    "Q3 = df_delIQR_outliers[Outlier_output[0]].quantile(0.75)\n",
    "\n",
    "plt.figure(figsize=(8, 5))\n",
    "plt.hist(df_delIQR_outliers[Outlier_output[0]], bins=20, edgecolor='black', color='deepskyblue', alpha=0.8)\n",
    "plt.axvline(Q1, color='orange', linestyle='--', linewidth=2, label=f'Q1 (25%): {Q1:.2f}')\n",
    "plt.axvline(Q2, color='green', linestyle='-', linewidth=2, label=f'Q2 (50%): {Q2:.2f}')\n",
    "plt.axvline(Q3, color='red', linestyle='--', linewidth=2, label=f'Q3 (75%): {Q3:.2f}')\n",
    "plt.title(f'Histogram of {Outlier_output[0]} (with Quartiles)')\n",
    "plt.xlabel(Outlier_output[0])\n",
    "plt.ylabel('Frequency')\n",
    "plt.legend()\n",
    "plt.tight_layout()\n",
    "plt.show()"
   ]
  },
  {
   "cell_type": "markdown",
   "metadata": {
    "id": "d_d9Xju8mSpN"
   },
   "source": [
    "**Answer** \\#YOUR ANSWER\n",
    "Deleting outliers is a good idea in any case, from my point of view. It is not as wide as it might have been before we delete outliers.\n",
    "\n"
   ]
  },
  {
   "cell_type": "markdown",
   "metadata": {
    "id": "nYTFtI0OnHDi"
   },
   "source": [
    "# Task 3 (2 points)"
   ]
  },
  {
   "cell_type": "markdown",
   "metadata": {
    "id": "okN--1LvnKXv"
   },
   "source": [
    "Find the group (or groups) of people that will be deleted, if we delete all the outliers for the feature with the most outliers from the previous task."
   ]
  },
  {
   "cell_type": "code",
   "execution_count": 27,
   "metadata": {
    "id": "-owh6gXQlYvG"
   },
   "outputs": [
    {
     "data": {
      "text/plain": [
       "183"
      ]
     },
     "execution_count": 27,
     "metadata": {},
     "output_type": "execute_result"
    }
   ],
   "source": [
    "Q1 = df['chol'].quantile(0.25)\n",
    "Q3 = df['chol'].quantile(0.75)\n",
    "IQR = Q3-Q1\n",
    "LB = Q1 - 1.5 *IQR\n",
    "UB = Q3 + 1.5 *IQR\n",
    "df_outliers = df[(df['chol'] <= LB) | (df['chol'] >= UB)]\n",
    "len(df_outliers)"
   ]
  },
  {
   "cell_type": "code",
   "execution_count": 47,
   "metadata": {},
   "outputs": [
    {
     "data": {
      "text/html": [
       "<div>\n",
       "<style scoped>\n",
       "    .dataframe tbody tr th:only-of-type {\n",
       "        vertical-align: middle;\n",
       "    }\n",
       "\n",
       "    .dataframe tbody tr th {\n",
       "        vertical-align: top;\n",
       "    }\n",
       "\n",
       "    .dataframe thead th {\n",
       "        text-align: right;\n",
       "    }\n",
       "</style>\n",
       "<table border=\"1\" class=\"dataframe\">\n",
       "  <thead>\n",
       "    <tr style=\"text-align: right;\">\n",
       "      <th></th>\n",
       "      <th>id</th>\n",
       "      <th>age</th>\n",
       "      <th>sex</th>\n",
       "      <th>dataset</th>\n",
       "      <th>cp</th>\n",
       "      <th>trestbps</th>\n",
       "      <th>chol</th>\n",
       "      <th>fbs</th>\n",
       "      <th>restecg</th>\n",
       "      <th>thalch</th>\n",
       "      <th>exang</th>\n",
       "      <th>oldpeak</th>\n",
       "      <th>slope</th>\n",
       "      <th>ca</th>\n",
       "      <th>thal</th>\n",
       "      <th>num</th>\n",
       "    </tr>\n",
       "  </thead>\n",
       "  <tbody>\n",
       "    <tr>\n",
       "      <th>48</th>\n",
       "      <td>49</td>\n",
       "      <td>65</td>\n",
       "      <td>Female</td>\n",
       "      <td>Cleveland</td>\n",
       "      <td>non-anginal</td>\n",
       "      <td>140.0</td>\n",
       "      <td>417.0</td>\n",
       "      <td>True</td>\n",
       "      <td>lv hypertrophy</td>\n",
       "      <td>157.0</td>\n",
       "      <td>False</td>\n",
       "      <td>0.8</td>\n",
       "      <td>upsloping</td>\n",
       "      <td>1.0</td>\n",
       "      <td>normal</td>\n",
       "      <td>0</td>\n",
       "    </tr>\n",
       "    <tr>\n",
       "      <th>152</th>\n",
       "      <td>153</td>\n",
       "      <td>67</td>\n",
       "      <td>Female</td>\n",
       "      <td>Cleveland</td>\n",
       "      <td>non-anginal</td>\n",
       "      <td>115.0</td>\n",
       "      <td>564.0</td>\n",
       "      <td>False</td>\n",
       "      <td>lv hypertrophy</td>\n",
       "      <td>160.0</td>\n",
       "      <td>False</td>\n",
       "      <td>1.6</td>\n",
       "      <td>flat</td>\n",
       "      <td>0.0</td>\n",
       "      <td>reversable defect</td>\n",
       "      <td>0</td>\n",
       "    </tr>\n",
       "    <tr>\n",
       "      <th>181</th>\n",
       "      <td>182</td>\n",
       "      <td>56</td>\n",
       "      <td>Female</td>\n",
       "      <td>Cleveland</td>\n",
       "      <td>asymptomatic</td>\n",
       "      <td>134.0</td>\n",
       "      <td>409.0</td>\n",
       "      <td>False</td>\n",
       "      <td>lv hypertrophy</td>\n",
       "      <td>150.0</td>\n",
       "      <td>True</td>\n",
       "      <td>1.9</td>\n",
       "      <td>flat</td>\n",
       "      <td>2.0</td>\n",
       "      <td>reversable defect</td>\n",
       "      <td>2</td>\n",
       "    </tr>\n",
       "    <tr>\n",
       "      <th>373</th>\n",
       "      <td>374</td>\n",
       "      <td>44</td>\n",
       "      <td>Male</td>\n",
       "      <td>Hungary</td>\n",
       "      <td>asymptomatic</td>\n",
       "      <td>150.0</td>\n",
       "      <td>412.0</td>\n",
       "      <td>False</td>\n",
       "      <td>normal</td>\n",
       "      <td>170.0</td>\n",
       "      <td>False</td>\n",
       "      <td>0.0</td>\n",
       "      <td>NaN</td>\n",
       "      <td>NaN</td>\n",
       "      <td>NaN</td>\n",
       "      <td>0</td>\n",
       "    </tr>\n",
       "    <tr>\n",
       "      <th>434</th>\n",
       "      <td>435</td>\n",
       "      <td>53</td>\n",
       "      <td>Female</td>\n",
       "      <td>Hungary</td>\n",
       "      <td>atypical angina</td>\n",
       "      <td>113.0</td>\n",
       "      <td>468.0</td>\n",
       "      <td>NaN</td>\n",
       "      <td>normal</td>\n",
       "      <td>127.0</td>\n",
       "      <td>False</td>\n",
       "      <td>0.0</td>\n",
       "      <td>NaN</td>\n",
       "      <td>NaN</td>\n",
       "      <td>NaN</td>\n",
       "      <td>0</td>\n",
       "    </tr>\n",
       "    <tr>\n",
       "      <th>...</th>\n",
       "      <td>...</td>\n",
       "      <td>...</td>\n",
       "      <td>...</td>\n",
       "      <td>...</td>\n",
       "      <td>...</td>\n",
       "      <td>...</td>\n",
       "      <td>...</td>\n",
       "      <td>...</td>\n",
       "      <td>...</td>\n",
       "      <td>...</td>\n",
       "      <td>...</td>\n",
       "      <td>...</td>\n",
       "      <td>...</td>\n",
       "      <td>...</td>\n",
       "      <td>...</td>\n",
       "      <td>...</td>\n",
       "    </tr>\n",
       "    <tr>\n",
       "      <th>818</th>\n",
       "      <td>819</td>\n",
       "      <td>43</td>\n",
       "      <td>Male</td>\n",
       "      <td>VA Long Beach</td>\n",
       "      <td>asymptomatic</td>\n",
       "      <td>122.0</td>\n",
       "      <td>0.0</td>\n",
       "      <td>False</td>\n",
       "      <td>normal</td>\n",
       "      <td>120.0</td>\n",
       "      <td>False</td>\n",
       "      <td>0.5</td>\n",
       "      <td>upsloping</td>\n",
       "      <td>NaN</td>\n",
       "      <td>NaN</td>\n",
       "      <td>1</td>\n",
       "    </tr>\n",
       "    <tr>\n",
       "      <th>819</th>\n",
       "      <td>820</td>\n",
       "      <td>63</td>\n",
       "      <td>Male</td>\n",
       "      <td>VA Long Beach</td>\n",
       "      <td>non-anginal</td>\n",
       "      <td>130.0</td>\n",
       "      <td>0.0</td>\n",
       "      <td>True</td>\n",
       "      <td>st-t abnormality</td>\n",
       "      <td>160.0</td>\n",
       "      <td>False</td>\n",
       "      <td>3.0</td>\n",
       "      <td>flat</td>\n",
       "      <td>NaN</td>\n",
       "      <td>NaN</td>\n",
       "      <td>0</td>\n",
       "    </tr>\n",
       "    <tr>\n",
       "      <th>822</th>\n",
       "      <td>823</td>\n",
       "      <td>48</td>\n",
       "      <td>Male</td>\n",
       "      <td>VA Long Beach</td>\n",
       "      <td>non-anginal</td>\n",
       "      <td>102.0</td>\n",
       "      <td>0.0</td>\n",
       "      <td>NaN</td>\n",
       "      <td>st-t abnormality</td>\n",
       "      <td>110.0</td>\n",
       "      <td>True</td>\n",
       "      <td>1.0</td>\n",
       "      <td>downsloping</td>\n",
       "      <td>NaN</td>\n",
       "      <td>NaN</td>\n",
       "      <td>1</td>\n",
       "    </tr>\n",
       "    <tr>\n",
       "      <th>839</th>\n",
       "      <td>840</td>\n",
       "      <td>56</td>\n",
       "      <td>Male</td>\n",
       "      <td>VA Long Beach</td>\n",
       "      <td>asymptomatic</td>\n",
       "      <td>NaN</td>\n",
       "      <td>0.0</td>\n",
       "      <td>False</td>\n",
       "      <td>lv hypertrophy</td>\n",
       "      <td>NaN</td>\n",
       "      <td>NaN</td>\n",
       "      <td>NaN</td>\n",
       "      <td>NaN</td>\n",
       "      <td>NaN</td>\n",
       "      <td>NaN</td>\n",
       "      <td>1</td>\n",
       "    </tr>\n",
       "    <tr>\n",
       "      <th>840</th>\n",
       "      <td>841</td>\n",
       "      <td>62</td>\n",
       "      <td>Male</td>\n",
       "      <td>VA Long Beach</td>\n",
       "      <td>non-anginal</td>\n",
       "      <td>NaN</td>\n",
       "      <td>0.0</td>\n",
       "      <td>True</td>\n",
       "      <td>st-t abnormality</td>\n",
       "      <td>NaN</td>\n",
       "      <td>NaN</td>\n",
       "      <td>NaN</td>\n",
       "      <td>NaN</td>\n",
       "      <td>NaN</td>\n",
       "      <td>NaN</td>\n",
       "      <td>2</td>\n",
       "    </tr>\n",
       "  </tbody>\n",
       "</table>\n",
       "<p>183 rows × 16 columns</p>\n",
       "</div>"
      ],
      "text/plain": [
       "      id  age     sex        dataset               cp  trestbps   chol    fbs  \\\n",
       "48    49   65  Female      Cleveland      non-anginal     140.0  417.0   True   \n",
       "152  153   67  Female      Cleveland      non-anginal     115.0  564.0  False   \n",
       "181  182   56  Female      Cleveland     asymptomatic     134.0  409.0  False   \n",
       "373  374   44    Male        Hungary     asymptomatic     150.0  412.0  False   \n",
       "434  435   53  Female        Hungary  atypical angina     113.0  468.0    NaN   \n",
       "..   ...  ...     ...            ...              ...       ...    ...    ...   \n",
       "818  819   43    Male  VA Long Beach     asymptomatic     122.0    0.0  False   \n",
       "819  820   63    Male  VA Long Beach      non-anginal     130.0    0.0   True   \n",
       "822  823   48    Male  VA Long Beach      non-anginal     102.0    0.0    NaN   \n",
       "839  840   56    Male  VA Long Beach     asymptomatic       NaN    0.0  False   \n",
       "840  841   62    Male  VA Long Beach      non-anginal       NaN    0.0   True   \n",
       "\n",
       "              restecg  thalch  exang  oldpeak        slope   ca  \\\n",
       "48     lv hypertrophy   157.0  False      0.8    upsloping  1.0   \n",
       "152    lv hypertrophy   160.0  False      1.6         flat  0.0   \n",
       "181    lv hypertrophy   150.0   True      1.9         flat  2.0   \n",
       "373            normal   170.0  False      0.0          NaN  NaN   \n",
       "434            normal   127.0  False      0.0          NaN  NaN   \n",
       "..                ...     ...    ...      ...          ...  ...   \n",
       "818            normal   120.0  False      0.5    upsloping  NaN   \n",
       "819  st-t abnormality   160.0  False      3.0         flat  NaN   \n",
       "822  st-t abnormality   110.0   True      1.0  downsloping  NaN   \n",
       "839    lv hypertrophy     NaN    NaN      NaN          NaN  NaN   \n",
       "840  st-t abnormality     NaN    NaN      NaN          NaN  NaN   \n",
       "\n",
       "                  thal  num  \n",
       "48              normal    0  \n",
       "152  reversable defect    0  \n",
       "181  reversable defect    2  \n",
       "373                NaN    0  \n",
       "434                NaN    0  \n",
       "..                 ...  ...  \n",
       "818                NaN    1  \n",
       "819                NaN    0  \n",
       "822                NaN    1  \n",
       "839                NaN    1  \n",
       "840                NaN    2  \n",
       "\n",
       "[183 rows x 16 columns]"
      ]
     },
     "execution_count": 47,
     "metadata": {},
     "output_type": "execute_result"
    }
   ],
   "source": [
    "df_outliers"
   ]
  },
  {
   "cell_type": "markdown",
   "metadata": {
    "id": "6w9GbUGuS_Pe"
   },
   "source": [
    "# Task 4 (2 points)"
   ]
  },
  {
   "cell_type": "markdown",
   "metadata": {
    "id": "598SNtbrTBvY"
   },
   "source": [
    "Check the proportion of missing values in the dataset. What approach can be used to tackle the problem for every variable?"
   ]
  },
  {
   "cell_type": "code",
   "execution_count": 101,
   "metadata": {
    "id": "VQUR3NXMS08z"
   },
   "outputs": [
    {
     "name": "stdout",
     "output_type": "stream",
     "text": [
      "id: 0\n",
      "id: 0.0 is NA proportion\n",
      "age: 0\n",
      "age: 0.0 is NA proportion\n",
      "sex: 0\n",
      "sex: 0.0 is NA proportion\n",
      "dataset: 0\n",
      "dataset: 0.0 is NA proportion\n",
      "cp: 0\n",
      "cp: 0.0 is NA proportion\n",
      "trestbps: 59\n",
      "trestbps: 6.41 is NA proportion\n",
      "chol: 30\n",
      "chol: 3.26 is NA proportion\n",
      "fbs: 90\n",
      "fbs: 9.78 is NA proportion\n",
      "restecg: 2\n",
      "restecg: 0.22 is NA proportion\n",
      "thalch: 55\n",
      "thalch: 5.98 is NA proportion\n",
      "exang: 55\n",
      "exang: 5.98 is NA proportion\n",
      "oldpeak: 62\n",
      "oldpeak: 6.74 is NA proportion\n",
      "slope: 309\n",
      "slope: 33.59 is NA proportion\n",
      "ca: 611\n",
      "ca: 66.41 is NA proportion\n",
      "thal: 486\n",
      "thal: 52.83 is NA proportion\n",
      "num: 0\n",
      "num: 0.0 is NA proportion\n"
     ]
    }
   ],
   "source": [
    "#Before doing it checking NA\n",
    "for column in df.columns:\n",
    "    print(f'{column}: {sum(df[column].isna())}')\n",
    "    print(f'{column}: {round(df[column].isna().mean() * 100, 2)} is NA proportion')"
   ]
  },
  {
   "cell_type": "markdown",
   "metadata": {
    "id": "d2GWA5ijqHoo"
   },
   "source": [
    "**Answer** \\#YOUR ANSWER\n",
    "we can use median in order to replace NA"
   ]
  },
  {
   "cell_type": "markdown",
   "metadata": {
    "id": "U37-W3dHuCK1"
   },
   "source": [
    "# Task 5 (2 points)\n"
   ]
  },
  {
   "cell_type": "markdown",
   "metadata": {
    "id": "GGKJYgToscZH"
   },
   "source": [
    "Fill the missing values, for categorical features create new category `'NOT GIVEN'`"
   ]
  },
  {
   "cell_type": "code",
   "execution_count": 103,
   "metadata": {},
   "outputs": [
    {
     "name": "stdout",
     "output_type": "stream",
     "text": [
      "      id  age     sex        dataset               cp  trestbps   chol    fbs  \\\n",
      "0      1   63    Male      Cleveland   typical angina     145.0  233.0   True   \n",
      "1      2   67    Male      Cleveland     asymptomatic     160.0  286.0  False   \n",
      "2      3   67    Male      Cleveland     asymptomatic     120.0  229.0  False   \n",
      "3      4   37    Male      Cleveland      non-anginal     130.0  250.0  False   \n",
      "4      5   41  Female      Cleveland  atypical angina     130.0  204.0  False   \n",
      "..   ...  ...     ...            ...              ...       ...    ...    ...   \n",
      "915  916   54  Female  VA Long Beach     asymptomatic     127.0  333.0   True   \n",
      "916  917   62    Male  VA Long Beach   typical angina     130.0  139.0  False   \n",
      "917  918   55    Male  VA Long Beach     asymptomatic     122.0  223.0   True   \n",
      "918  919   58    Male  VA Long Beach     asymptomatic     130.0  385.0   True   \n",
      "919  920   62    Male  VA Long Beach  atypical angina     120.0  254.0  False   \n",
      "\n",
      "              restecg  thalch      exang  oldpeak        slope   ca  \\\n",
      "0      lv hypertrophy   150.0      False      2.3  downsloping  0.0   \n",
      "1      lv hypertrophy   108.0       True      1.5         flat  3.0   \n",
      "2      lv hypertrophy   129.0       True      2.6         flat  2.0   \n",
      "3              normal   187.0      False      3.5  downsloping  0.0   \n",
      "4      lv hypertrophy   172.0      False      1.4    upsloping  0.0   \n",
      "..                ...     ...        ...      ...          ...  ...   \n",
      "915  st-t abnormality   154.0      False      0.0    NOT GIVEN  0.0   \n",
      "916  st-t abnormality   140.0  NOT GIVEN      0.5    NOT GIVEN  0.0   \n",
      "917  st-t abnormality   100.0      False      0.0    NOT GIVEN  0.0   \n",
      "918    lv hypertrophy   140.0  NOT GIVEN      0.5    NOT GIVEN  0.0   \n",
      "919    lv hypertrophy    93.0       True      0.0    NOT GIVEN  0.0   \n",
      "\n",
      "                  thal  num  \n",
      "0         fixed defect    0  \n",
      "1               normal    2  \n",
      "2    reversable defect    1  \n",
      "3               normal    0  \n",
      "4               normal    0  \n",
      "..                 ...  ...  \n",
      "915          NOT GIVEN    1  \n",
      "916          NOT GIVEN    0  \n",
      "917       fixed defect    2  \n",
      "918          NOT GIVEN    0  \n",
      "919          NOT GIVEN    1  \n",
      "\n",
      "[920 rows x 16 columns]\n"
     ]
    }
   ],
   "source": [
    "column_names = df.columns.tolist()\n",
    "column_names = column_names[1:len(column_names)]\n",
    "\n",
    "\n",
    "cat_col = ['sex', 'thal', 'slope', 'exang', 'restecg', 'fbs', 'cp', 'dataset']  # if NA then 'NOT GIVEN'\n",
    "\n",
    "for col in df.columns:\n",
    "    if col in cat_col:\n",
    "        df[col] = df[col].fillna('NOT GIVEN')\n",
    "    else:\n",
    "        median = df[col].median()\n",
    "        df[col] = df[col].fillna(median)\n",
    "\n",
    "print(df)"
   ]
  },
  {
   "cell_type": "code",
   "execution_count": null,
   "metadata": {
    "id": "VUBE4P-GsxQc"
   },
   "outputs": [],
   "source": [
    "fill_dict = {}\n",
    "#YOUR CODE"
   ]
  },
  {
   "cell_type": "markdown",
   "metadata": {
    "id": "bKawTqEpuF4t"
   },
   "source": [
    "Convert every numerical variable into z-scores:"
   ]
  },
  {
   "cell_type": "code",
   "execution_count": 262,
   "metadata": {
    "id": "Ajsvy4x4uBxl"
   },
   "outputs": [],
   "source": [
    "from scipy import stats\n",
    "\n",
    "df_zscore = df_delIQR_outliers.copy()\n",
    "\n",
    "df_zscore[num_feature] = df_zscore[num_feature].apply(zscore)"
   ]
  },
  {
   "cell_type": "code",
   "execution_count": 264,
   "metadata": {},
   "outputs": [
    {
     "data": {
      "text/plain": [
       "(chol       3.250779\n",
       " thalch     2.436454\n",
       " oldpeak    2.838899\n",
       " dtype: float64,\n",
       " chol      -3.182609\n",
       " thalch    -2.828480\n",
       " oldpeak   -0.848156\n",
       " dtype: float64)"
      ]
     },
     "execution_count": 264,
     "metadata": {},
     "output_type": "execute_result"
    }
   ],
   "source": [
    "z_values_check = df_zscore[num_feature]\n",
    "our_variables = z_values.max(), z_values.min()\n",
    "our_variables"
   ]
  },
  {
   "cell_type": "code",
   "execution_count": 266,
   "metadata": {},
   "outputs": [],
   "source": [
    "pos = z_values_check.max().max(), z_values_check.max().idxmax()\n",
    "neg = z_values_check.min().min(), z_values_check.min().idxmin()"
   ]
  },
  {
   "cell_type": "markdown",
   "metadata": {
    "id": "ya_I0ojgvTCd"
   },
   "source": [
    "Find the most extreme value in the dataset: in what column is it in?"
   ]
  },
  {
   "cell_type": "code",
   "execution_count": 268,
   "metadata": {
    "id": "uyKQHXLPvF5N"
   },
   "outputs": [
    {
     "name": "stdout",
     "output_type": "stream",
     "text": [
      "Max positive z-score: 3.118 in column 'chol'\n",
      "Max negative z-score: -3.212 in column 'chol'\n"
     ]
    }
   ],
   "source": [
    "#YOUR CODE\n",
    "print(f\"Max positive z-score: {pos[0]:.3f} in column '{pos[1]}'\")\n",
    "print(f\"Max negative z-score: {neg[0]:.3f} in column '{neg[1]}'\")"
   ]
  },
  {
   "cell_type": "markdown",
   "metadata": {
    "id": "9TQgGqZ_vvKF"
   },
   "source": [
    "**Answer** \\#YOUR ANSWER"
   ]
  },
  {
   "cell_type": "markdown",
   "metadata": {
    "id": "kSyD8LKrvhJs"
   },
   "source": [
    "Draw the distributions on one plot. Adjust the visible area of the histogram in such way, that the bar for the most extreme value is visible. It is ok to cut  very high bars."
   ]
  },
  {
   "cell_type": "code",
   "execution_count": 290,
   "metadata": {
    "id": "4ohbDx4gvjW8"
   },
   "outputs": [
    {
     "data": {
      "image/png": "[encoded data removed]",
      "text/plain": [
       "<Figure size 800x1600 with 4 Axes>"
      ]
     },
     "metadata": {},
     "output_type": "display_data"
    }
   ],
   "source": [
    "fig, axes = plt.subplots(len(num_feature), 1, figsize=(8, 4*len(num_feature)))\n",
    "\n",
    "for i, feature in enumerate(num_feature):\n",
    "    ax = axes[i]\n",
    "    ax.hist(df_zscore[feature].dropna(), bins=60, edgecolor='black')\n",
    "    ax.axvline(df_zscore[feature].mode()[0], color='red', linestyle='--', label=f\"Mode: {df_zscore[feature].mode()[0]}\")\n",
    "    ax.set_title(f'Histogram of {feature}')\n",
    "    ax.set_xlabel(feature)\n",
    "    ax.set_ylabel('Frequency')\n",
    "\n",
    "plt.tight_layout()\n",
    "plt.show()"
   ]
  },
  {
   "cell_type": "code",
   "execution_count": null,
   "metadata": {},
   "outputs": [],
   "source": []
  }
 ],
 "metadata": {
  "colab": {
   "provenance": [],
   "toc_visible": true
  },
  "kernelspec": {
   "display_name": "Python 3 (ipykernel)",
   "language": "python",
   "name": "python3"
  },
  "language_info": {
   "codemirror_mode": {
    "name": "ipython",
    "version": 3
   },
   "file_extension": ".py",
   "mimetype": "text/x-python",
   "name": "python",
   "nbconvert_exporter": "python",
   "pygments_lexer": "ipython3",
   "version": "3.12.4"
  }
 },
 "nbformat": 4,
 "nbformat_minor": 4
}
